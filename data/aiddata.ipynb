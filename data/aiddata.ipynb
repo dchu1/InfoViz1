{
 "cells": [
  {
   "cell_type": "code",
   "execution_count": 1,
   "metadata": {
    "colab": {},
    "colab_type": "code",
    "id": "sTix_vgV6XFr"
   },
   "outputs": [],
   "source": [
    "import pandas as pd"
   ]
  },
  {
   "cell_type": "code",
   "execution_count": 2,
   "metadata": {
    "colab": {
     "base_uri": "https://localhost:8080/",
     "height": 73
    },
    "colab_type": "code",
    "id": "kkBPVS3nZI-G",
    "outputId": "cfbcad8b-098f-452e-c9e3-eb49ca0bd773"
   },
   "outputs": [
    {
     "name": "stderr",
     "output_type": "stream",
     "text": [
      "C:\\Users\\david\\anaconda3\\lib\\site-packages\\IPython\\core\\interactiveshell.py:3063: DtypeWarning: Columns (4,12,13,21,30,32,46,65,67) have mixed types.Specify dtype option on import or set low_memory=False.\n",
      "  interactivity=interactivity, compiler=compiler, result=result)\n"
     ]
    }
   ],
   "source": [
    "df = pd.read_csv(\"AidDataCoreFull_ResearchRelease_Level1_v3.1.csv\")\n",
    "isocodes = pd.read_csv(\"https://raw.githubusercontent.com/lukes/ISO-3166-Countries-with-Regional-Codes/master/all/all.csv\")"
   ]
  },
  {
   "cell_type": "code",
   "execution_count": 17,
   "metadata": {
    "colab": {
     "base_uri": "https://localhost:8080/",
     "height": 434
    },
    "colab_type": "code",
    "id": "R-MghI7ubUK4",
    "outputId": "19a5aca2-aa7e-422f-f405-4b97ab22a3aa"
   },
   "outputs": [
    {
     "data": {
      "text/html": [
       "<div>\n",
       "<style scoped>\n",
       "    .dataframe tbody tr th:only-of-type {\n",
       "        vertical-align: middle;\n",
       "    }\n",
       "\n",
       "    .dataframe tbody tr th {\n",
       "        vertical-align: top;\n",
       "    }\n",
       "\n",
       "    .dataframe thead th {\n",
       "        text-align: right;\n",
       "    }\n",
       "</style>\n",
       "<table border=\"1\" class=\"dataframe\">\n",
       "  <thead>\n",
       "    <tr style=\"text-align: right;\">\n",
       "      <th></th>\n",
       "      <th>name</th>\n",
       "      <th>alpha-2</th>\n",
       "      <th>alpha-3</th>\n",
       "      <th>country-code</th>\n",
       "      <th>iso_3166-2</th>\n",
       "      <th>region</th>\n",
       "      <th>sub-region</th>\n",
       "      <th>intermediate-region</th>\n",
       "      <th>region-code</th>\n",
       "      <th>sub-region-code</th>\n",
       "      <th>intermediate-region-code</th>\n",
       "    </tr>\n",
       "  </thead>\n",
       "  <tbody>\n",
       "    <tr>\n",
       "      <th>0</th>\n",
       "      <td>Afghanistan</td>\n",
       "      <td>AF</td>\n",
       "      <td>AFG</td>\n",
       "      <td>4</td>\n",
       "      <td>ISO 3166-2:AF</td>\n",
       "      <td>Asia</td>\n",
       "      <td>Southern Asia</td>\n",
       "      <td>NaN</td>\n",
       "      <td>142.0</td>\n",
       "      <td>34.0</td>\n",
       "      <td>NaN</td>\n",
       "    </tr>\n",
       "    <tr>\n",
       "      <th>1</th>\n",
       "      <td>Åland Islands</td>\n",
       "      <td>AX</td>\n",
       "      <td>ALA</td>\n",
       "      <td>248</td>\n",
       "      <td>ISO 3166-2:AX</td>\n",
       "      <td>Europe</td>\n",
       "      <td>Northern Europe</td>\n",
       "      <td>NaN</td>\n",
       "      <td>150.0</td>\n",
       "      <td>154.0</td>\n",
       "      <td>NaN</td>\n",
       "    </tr>\n",
       "    <tr>\n",
       "      <th>2</th>\n",
       "      <td>Albania</td>\n",
       "      <td>AL</td>\n",
       "      <td>ALB</td>\n",
       "      <td>8</td>\n",
       "      <td>ISO 3166-2:AL</td>\n",
       "      <td>Europe</td>\n",
       "      <td>Southern Europe</td>\n",
       "      <td>NaN</td>\n",
       "      <td>150.0</td>\n",
       "      <td>39.0</td>\n",
       "      <td>NaN</td>\n",
       "    </tr>\n",
       "    <tr>\n",
       "      <th>3</th>\n",
       "      <td>Algeria</td>\n",
       "      <td>DZ</td>\n",
       "      <td>DZA</td>\n",
       "      <td>12</td>\n",
       "      <td>ISO 3166-2:DZ</td>\n",
       "      <td>Africa</td>\n",
       "      <td>Northern Africa</td>\n",
       "      <td>NaN</td>\n",
       "      <td>2.0</td>\n",
       "      <td>15.0</td>\n",
       "      <td>NaN</td>\n",
       "    </tr>\n",
       "    <tr>\n",
       "      <th>4</th>\n",
       "      <td>American Samoa</td>\n",
       "      <td>AS</td>\n",
       "      <td>ASM</td>\n",
       "      <td>16</td>\n",
       "      <td>ISO 3166-2:AS</td>\n",
       "      <td>Oceania</td>\n",
       "      <td>Polynesia</td>\n",
       "      <td>NaN</td>\n",
       "      <td>9.0</td>\n",
       "      <td>61.0</td>\n",
       "      <td>NaN</td>\n",
       "    </tr>\n",
       "  </tbody>\n",
       "</table>\n",
       "</div>"
      ],
      "text/plain": [
       "             name alpha-2 alpha-3  country-code     iso_3166-2   region  \\\n",
       "0     Afghanistan      AF     AFG             4  ISO 3166-2:AF     Asia   \n",
       "1   Åland Islands      AX     ALA           248  ISO 3166-2:AX   Europe   \n",
       "2         Albania      AL     ALB             8  ISO 3166-2:AL   Europe   \n",
       "3         Algeria      DZ     DZA            12  ISO 3166-2:DZ   Africa   \n",
       "4  American Samoa      AS     ASM            16  ISO 3166-2:AS  Oceania   \n",
       "\n",
       "        sub-region intermediate-region  region-code  sub-region-code  \\\n",
       "0    Southern Asia                 NaN        142.0             34.0   \n",
       "1  Northern Europe                 NaN        150.0            154.0   \n",
       "2  Southern Europe                 NaN        150.0             39.0   \n",
       "3  Northern Africa                 NaN          2.0             15.0   \n",
       "4        Polynesia                 NaN          9.0             61.0   \n",
       "\n",
       "   intermediate-region-code  \n",
       "0                       NaN  \n",
       "1                       NaN  \n",
       "2                       NaN  \n",
       "3                       NaN  \n",
       "4                       NaN  "
      ]
     },
     "execution_count": 17,
     "metadata": {},
     "output_type": "execute_result"
    }
   ],
   "source": [
    "isocodes.head()"
   ]
  },
  {
   "cell_type": "code",
   "execution_count": 0,
   "metadata": {
    "colab": {},
    "colab_type": "code",
    "id": "vNvdrMx1Z0Qo"
   },
   "outputs": [],
   "source": [
    "df_filtered = df[df.donor_iso.notnull() & df.recipient_iso.notnull() & df.donor_iso.isin(isocodes[\"alpha-2\"]) & df.recipient_iso.isin(isocodes[\"alpha-2\"])]"
   ]
  },
  {
   "cell_type": "code",
   "execution_count": 19,
   "metadata": {
    "colab": {
     "base_uri": "https://localhost:8080/",
     "height": 108
    },
    "colab_type": "code",
    "id": "9cqwg1EGaSL1",
    "outputId": "39e1b49b-63c4-45db-df1a-33b1d74240ad"
   },
   "outputs": [
    {
     "name": "stderr",
     "output_type": "stream",
     "text": [
      "C:\\Users\\david\\anaconda3\\lib\\site-packages\\ipykernel_launcher.py:1: SettingWithCopyWarning: \n",
      "A value is trying to be set on a copy of a slice from a DataFrame.\n",
      "Try using .loc[row_indexer,col_indexer] = value instead\n",
      "\n",
      "See the caveats in the documentation: https://pandas.pydata.org/pandas-docs/stable/user_guide/indexing.html#returning-a-view-versus-a-copy\n",
      "  \"\"\"Entry point for launching an IPython kernel.\n"
     ]
    }
   ],
   "source": [
    "df_filtered['donor_iso3'] = df_filtered['donor_iso'].map(isocodes.set_index('alpha-2')['alpha-3'])\n",
    "df_filtered['recipient_iso3'] = df_filtered['recipient_iso'].map(isocodes.set_index('alpha-2')['alpha-3'])"
   ]
  },
  {
   "cell_type": "code",
   "execution_count": 22,
   "metadata": {},
   "outputs": [
    {
     "data": {
      "text/html": [
       "<div>\n",
       "<style scoped>\n",
       "    .dataframe tbody tr th:only-of-type {\n",
       "        vertical-align: middle;\n",
       "    }\n",
       "\n",
       "    .dataframe tbody tr th {\n",
       "        vertical-align: top;\n",
       "    }\n",
       "\n",
       "    .dataframe thead th {\n",
       "        text-align: right;\n",
       "    }\n",
       "</style>\n",
       "<table border=\"1\" class=\"dataframe\">\n",
       "  <thead>\n",
       "    <tr style=\"text-align: right;\">\n",
       "      <th></th>\n",
       "      <th>aiddata_id</th>\n",
       "      <th>aiddata_2_id</th>\n",
       "      <th>year</th>\n",
       "      <th>donor</th>\n",
       "      <th>donor_iso</th>\n",
       "      <th>donor_region</th>\n",
       "      <th>implementing_agency</th>\n",
       "      <th>financing_agency</th>\n",
       "      <th>crs_bi_multi</th>\n",
       "      <th>recipient</th>\n",
       "      <th>...</th>\n",
       "      <th>outstanding_amount_usd_nominal</th>\n",
       "      <th>interest_amount_usd_nominal</th>\n",
       "      <th>expert_commitment_amount_usd_nominal</th>\n",
       "      <th>export_credit_amount_usd_nominal</th>\n",
       "      <th>expert_extended_amount_usd_nominal</th>\n",
       "      <th>additional_info</th>\n",
       "      <th>source</th>\n",
       "      <th>source_detail</th>\n",
       "      <th>donor_iso3</th>\n",
       "      <th>recipient_iso3</th>\n",
       "    </tr>\n",
       "  </thead>\n",
       "  <tbody>\n",
       "    <tr>\n",
       "      <th>0</th>\n",
       "      <td>57107494</td>\n",
       "      <td>38525164.0</td>\n",
       "      <td>2008</td>\n",
       "      <td>Japan</td>\n",
       "      <td>JP</td>\n",
       "      <td>Far East Asia</td>\n",
       "      <td>PUBLIC SECTOR (donor, recipient, other)</td>\n",
       "      <td>Oth. MIN</td>\n",
       "      <td>1.0</td>\n",
       "      <td>Burkina Faso</td>\n",
       "      <td>...</td>\n",
       "      <td>0.0</td>\n",
       "      <td>0.0</td>\n",
       "      <td>0.0</td>\n",
       "      <td>0.0</td>\n",
       "      <td>0.0</td>\n",
       "      <td>NaN</td>\n",
       "      <td>OECD</td>\n",
       "      <td>CRS_ONLINE_MAY2011</td>\n",
       "      <td>JPN</td>\n",
       "      <td>BFA</td>\n",
       "    </tr>\n",
       "    <tr>\n",
       "      <th>1</th>\n",
       "      <td>57106173</td>\n",
       "      <td>11398738.0</td>\n",
       "      <td>1998</td>\n",
       "      <td>France</td>\n",
       "      <td>FR</td>\n",
       "      <td>Europe</td>\n",
       "      <td>NaN</td>\n",
       "      <td>MAE</td>\n",
       "      <td>1.0</td>\n",
       "      <td>Uruguay</td>\n",
       "      <td>...</td>\n",
       "      <td>0.0</td>\n",
       "      <td>0.0</td>\n",
       "      <td>0.0</td>\n",
       "      <td>0.0</td>\n",
       "      <td>0.0</td>\n",
       "      <td>NaN</td>\n",
       "      <td>OECD</td>\n",
       "      <td>CRS_ONLINE_MAY2011</td>\n",
       "      <td>FRA</td>\n",
       "      <td>URY</td>\n",
       "    </tr>\n",
       "    <tr>\n",
       "      <th>2</th>\n",
       "      <td>57106717</td>\n",
       "      <td>24005728.0</td>\n",
       "      <td>2005</td>\n",
       "      <td>Germany</td>\n",
       "      <td>DE</td>\n",
       "      <td>Europe</td>\n",
       "      <td>NGOs and civil society</td>\n",
       "      <td>BMZ</td>\n",
       "      <td>1.0</td>\n",
       "      <td>Guinea-Bissau</td>\n",
       "      <td>...</td>\n",
       "      <td>0.0</td>\n",
       "      <td>0.0</td>\n",
       "      <td>0.0</td>\n",
       "      <td>0.0</td>\n",
       "      <td>0.0</td>\n",
       "      <td>NaN</td>\n",
       "      <td>OECD</td>\n",
       "      <td>CRS_ONLINE_MAY2011</td>\n",
       "      <td>DEU</td>\n",
       "      <td>GNB</td>\n",
       "    </tr>\n",
       "    <tr>\n",
       "      <th>3</th>\n",
       "      <td>57106756</td>\n",
       "      <td>38129962.0</td>\n",
       "      <td>2008</td>\n",
       "      <td>United States</td>\n",
       "      <td>US</td>\n",
       "      <td>North &amp; Central America</td>\n",
       "      <td>NATIONAL NGOs</td>\n",
       "      <td>AID</td>\n",
       "      <td>1.0</td>\n",
       "      <td>Nicaragua</td>\n",
       "      <td>...</td>\n",
       "      <td>0.0</td>\n",
       "      <td>0.0</td>\n",
       "      <td>0.0</td>\n",
       "      <td>0.0</td>\n",
       "      <td>0.0</td>\n",
       "      <td>NaN</td>\n",
       "      <td>OECD</td>\n",
       "      <td>CRS_ONLINE_MAY2011</td>\n",
       "      <td>USA</td>\n",
       "      <td>NIC</td>\n",
       "    </tr>\n",
       "    <tr>\n",
       "      <th>4</th>\n",
       "      <td>57106795</td>\n",
       "      <td>31199332.0</td>\n",
       "      <td>2007</td>\n",
       "      <td>Belgium</td>\n",
       "      <td>BE</td>\n",
       "      <td>Europe</td>\n",
       "      <td>NGO Fondation Damien, Association de Lutte con...</td>\n",
       "      <td>DGCD</td>\n",
       "      <td>3.0</td>\n",
       "      <td>China</td>\n",
       "      <td>...</td>\n",
       "      <td>0.0</td>\n",
       "      <td>0.0</td>\n",
       "      <td>0.0</td>\n",
       "      <td>0.0</td>\n",
       "      <td>0.0</td>\n",
       "      <td>NaN</td>\n",
       "      <td>OECD</td>\n",
       "      <td>CRS_ONLINE_MAY2011</td>\n",
       "      <td>BEL</td>\n",
       "      <td>CHN</td>\n",
       "    </tr>\n",
       "  </tbody>\n",
       "</table>\n",
       "<p>5 rows × 70 columns</p>\n",
       "</div>"
      ],
      "text/plain": [
       "   aiddata_id  aiddata_2_id  year          donor donor_iso  \\\n",
       "0    57107494    38525164.0  2008          Japan        JP   \n",
       "1    57106173    11398738.0  1998         France        FR   \n",
       "2    57106717    24005728.0  2005        Germany        DE   \n",
       "3    57106756    38129962.0  2008  United States        US   \n",
       "4    57106795    31199332.0  2007        Belgium        BE   \n",
       "\n",
       "              donor_region                                implementing_agency  \\\n",
       "0            Far East Asia            PUBLIC SECTOR (donor, recipient, other)   \n",
       "1                   Europe                                                NaN   \n",
       "2                   Europe                             NGOs and civil society   \n",
       "3  North & Central America                                      NATIONAL NGOs   \n",
       "4                   Europe  NGO Fondation Damien, Association de Lutte con...   \n",
       "\n",
       "  financing_agency  crs_bi_multi      recipient  ...  \\\n",
       "0         Oth. MIN           1.0   Burkina Faso  ...   \n",
       "1              MAE           1.0        Uruguay  ...   \n",
       "2              BMZ           1.0  Guinea-Bissau  ...   \n",
       "3              AID           1.0      Nicaragua  ...   \n",
       "4             DGCD           3.0          China  ...   \n",
       "\n",
       "  outstanding_amount_usd_nominal interest_amount_usd_nominal  \\\n",
       "0                            0.0                         0.0   \n",
       "1                            0.0                         0.0   \n",
       "2                            0.0                         0.0   \n",
       "3                            0.0                         0.0   \n",
       "4                            0.0                         0.0   \n",
       "\n",
       "  expert_commitment_amount_usd_nominal export_credit_amount_usd_nominal  \\\n",
       "0                                  0.0                              0.0   \n",
       "1                                  0.0                              0.0   \n",
       "2                                  0.0                              0.0   \n",
       "3                                  0.0                              0.0   \n",
       "4                                  0.0                              0.0   \n",
       "\n",
       "  expert_extended_amount_usd_nominal  additional_info  source  \\\n",
       "0                                0.0              NaN    OECD   \n",
       "1                                0.0              NaN    OECD   \n",
       "2                                0.0              NaN    OECD   \n",
       "3                                0.0              NaN    OECD   \n",
       "4                                0.0              NaN    OECD   \n",
       "\n",
       "        source_detail donor_iso3 recipient_iso3  \n",
       "0  CRS_ONLINE_MAY2011        JPN            BFA  \n",
       "1  CRS_ONLINE_MAY2011        FRA            URY  \n",
       "2  CRS_ONLINE_MAY2011        DEU            GNB  \n",
       "3  CRS_ONLINE_MAY2011        USA            NIC  \n",
       "4  CRS_ONLINE_MAY2011        BEL            CHN  \n",
       "\n",
       "[5 rows x 70 columns]"
      ]
     },
     "execution_count": 22,
     "metadata": {},
     "output_type": "execute_result"
    }
   ],
   "source": [
    "df_filtered.head()"
   ]
  },
  {
   "cell_type": "code",
   "execution_count": 23,
   "metadata": {
    "colab": {},
    "colab_type": "code",
    "id": "fNmRsQN_cVOP"
   },
   "outputs": [],
   "source": [
    "df_filtered_reduced = df_filtered[[\"aiddata_id\", \"aiddata_2_id\", \"year\", \"donor\", \"donor_iso\", \"donor_iso3\", \"donor_region\", \"recipient\", \"recipient_iso\", \"recipient_iso3\", \"recipient_region\", \"crs_purpose_code\", \"crs_purpose_name\", \"coalesced_purpose_code\", \"coalesced_purpose_name\", \"commitment_amount_usd_constant\"]]"
   ]
  },
  {
   "cell_type": "code",
   "execution_count": 25,
   "metadata": {},
   "outputs": [
    {
     "data": {
      "text/plain": [
       "(967063, 16)"
      ]
     },
     "execution_count": 25,
     "metadata": {},
     "output_type": "execute_result"
    }
   ],
   "source": [
    "df_filtered_reduced.shape"
   ]
  },
  {
   "cell_type": "code",
   "execution_count": 0,
   "metadata": {
    "colab": {},
    "colab_type": "code",
    "id": "ACXapgRcdcyR"
   },
   "outputs": [],
   "source": [
    "compression_opts = dict(method='zip', archive_name='out.csv')\n",
    "df.to_csv('out.zip', index=False, compression=compression_opts)"
   ]
  },
  {
   "cell_type": "code",
   "execution_count": 0,
   "metadata": {
    "colab": {},
    "colab_type": "code",
    "id": "wilR8mm7e0nU"
   },
   "outputs": [],
   "source": [
    "df.to_csv(index=False)"
   ]
  }
 ],
 "metadata": {
  "colab": {
   "name": "Untitled2.ipynb",
   "provenance": []
  },
  "kernelspec": {
   "display_name": "Python 3",
   "language": "python",
   "name": "python3"
  },
  "language_info": {
   "codemirror_mode": {
    "name": "ipython",
    "version": 3
   },
   "file_extension": ".py",
   "mimetype": "text/x-python",
   "name": "python",
   "nbconvert_exporter": "python",
   "pygments_lexer": "ipython3",
   "version": "3.7.6"
  }
 },
 "nbformat": 4,
 "nbformat_minor": 1
}
