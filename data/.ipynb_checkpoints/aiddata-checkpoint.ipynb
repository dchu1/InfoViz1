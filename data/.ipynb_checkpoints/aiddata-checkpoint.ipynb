{
 "cells": [
  {
   "cell_type": "code",
   "execution_count": 1,
   "metadata": {
    "colab": {},
    "colab_type": "code",
    "id": "sTix_vgV6XFr"
   },
   "outputs": [],
   "source": [
    "import pandas as pd"
   ]
  },
  {
   "cell_type": "code",
   "execution_count": 2,
   "metadata": {
    "colab": {
     "base_uri": "https://localhost:8080/",
     "height": 73
    },
    "colab_type": "code",
    "id": "kkBPVS3nZI-G",
    "outputId": "cfbcad8b-098f-452e-c9e3-eb49ca0bd773"
   },
   "outputs": [
    {
     "name": "stderr",
     "output_type": "stream",
     "text": [
      "C:\\Users\\david\\anaconda3\\lib\\site-packages\\IPython\\core\\interactiveshell.py:3063: DtypeWarning: Columns (4,12,13,21,30,32,46,65,67) have mixed types.Specify dtype option on import or set low_memory=False.\n",
      "  interactivity=interactivity, compiler=compiler, result=result)\n"
     ]
    }
   ],
   "source": [
    "df = pd.read_csv(\"aiddata_filtered.csv\")\n",
    "isocodes = pd.read_csv(\"https://raw.githubusercontent.com/lukes/ISO-3166-Countries-with-Regional-Codes/master/all/all.csv\")"
   ]
  },
  {
   "cell_type": "code",
   "execution_count": 4,
   "metadata": {
    "colab": {
     "base_uri": "https://localhost:8080/",
     "height": 434
    },
    "colab_type": "code",
    "id": "R-MghI7ubUK4",
    "outputId": "19a5aca2-aa7e-422f-f405-4b97ab22a3aa"
   },
   "outputs": [
    {
     "data": {
      "text/plain": [
       "array(['JP', 'FR', 'DE', 'US', 'BE', 'ES', nan, 'IE', 'GB', 'IT', 'NO',\n",
       "       'CH', 'GR', 'AU', 'LU', 'AT', 'SE', 'FI', 'CA', 'NL', 'PT', 'DK',\n",
       "       'NZ', 'TH', 'SK', 'ZA', 'LV', 'LI', 'MC', 'CL', 'AE', 'IS', 'TW',\n",
       "       'IN', 'KW', 'SA', 'EE', 'LT', 'KR', 'CZ', 'QA', 'BR', 'CO', 'HU',\n",
       "       'RO', 'SI', 'CY'], dtype=object)"
      ]
     },
     "execution_count": 4,
     "metadata": {},
     "output_type": "execute_result"
    }
   ],
   "source": [
    "df.donor_iso.unique()"
   ]
  },
  {
   "cell_type": "code",
   "execution_count": 0,
   "metadata": {
    "colab": {},
    "colab_type": "code",
    "id": "vNvdrMx1Z0Qo"
   },
   "outputs": [],
   "source": [
    "df_filtered = df[df.donor_iso.notnull() & df.recipient_iso.notnull() & df.donor_iso.isin(isocodes[\"alpha-2\"]) & df.recipient_iso.isin(isocodes[\"alpha-2\"])]"
   ]
  },
  {
   "cell_type": "code",
   "execution_count": 0,
   "metadata": {
    "colab": {
     "base_uri": "https://localhost:8080/",
     "height": 108
    },
    "colab_type": "code",
    "id": "9cqwg1EGaSL1",
    "outputId": "39e1b49b-63c4-45db-df1a-33b1d74240ad"
   },
   "outputs": [
    {
     "data": {
      "text/plain": [
       "array(['JP', 'FR', 'DE', 'US', 'BE', 'ES', 'IE', 'GB', 'IT', 'GR', 'AU',\n",
       "       'NO', 'LU', 'CH', 'AT', 'FI', 'CA', 'NL', 'PT', 'SE', 'DK', 'NZ',\n",
       "       'TH', 'ZA', 'LV', 'LI', 'SK', 'MC', 'CL', 'AE', 'IS', 'TW', 'IN',\n",
       "       'KW', 'SA', 'EE', 'LT', 'KR', 'CZ', 'QA', 'BR', 'CO', 'HU', 'RO',\n",
       "       'SI', 'CY'], dtype=object)"
      ]
     },
     "execution_count": 25,
     "metadata": {
      "tags": []
     },
     "output_type": "execute_result"
    }
   ],
   "source": [
    "df_filtered.donor_iso.unique()"
   ]
  },
  {
   "cell_type": "code",
   "execution_count": 0,
   "metadata": {
    "colab": {},
    "colab_type": "code",
    "id": "fNmRsQN_cVOP"
   },
   "outputs": [],
   "source": [
    "df_filtered_reduced = df_filtered[[\"aiddata_id\", \"aiddata_2_id\", \"year\", \"donor\", \"donor_iso\", \"donor_region\", \"recipient\", \"recipient_iso\", \"recipient_region\", \"crs_purpose_code\", \"crs_purpose_name\", \"coalesced_purpose_code\", \"coalesced_purpose_name\", \"commitment_amount_usd_constant\"]]"
   ]
  },
  {
   "cell_type": "code",
   "execution_count": 0,
   "metadata": {
    "colab": {},
    "colab_type": "code",
    "id": "ACXapgRcdcyR"
   },
   "outputs": [],
   "source": [
    "compression_opts = dict(method='zip', archive_name='out.csv')\n",
    "df.to_csv('out.zip', index=False, compression=compression_opts)"
   ]
  },
  {
   "cell_type": "code",
   "execution_count": 0,
   "metadata": {
    "colab": {},
    "colab_type": "code",
    "id": "wilR8mm7e0nU"
   },
   "outputs": [],
   "source": []
  }
 ],
 "metadata": {
  "colab": {
   "name": "Untitled2.ipynb",
   "provenance": []
  },
  "kernelspec": {
   "display_name": "Python 3",
   "language": "python",
   "name": "python3"
  },
  "language_info": {
   "codemirror_mode": {
    "name": "ipython",
    "version": 3
   },
   "file_extension": ".py",
   "mimetype": "text/x-python",
   "name": "python",
   "nbconvert_exporter": "python",
   "pygments_lexer": "ipython3",
   "version": "3.7.6"
  }
 },
 "nbformat": 4,
 "nbformat_minor": 1
}
